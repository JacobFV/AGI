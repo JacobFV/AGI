{
  "nbformat": 4,
  "nbformat_minor": 0,
  "metadata": {
    "colab": {
      "name": "OpenLinuxEnv.ipynb",
      "provenance": [],
      "collapsed_sections": [],
      "authorship_tag": "ABX9TyO1HNZzrwdvcAb5PJBTOQCe",
      "include_colab_link": true
    },
    "kernelspec": {
      "name": "python3",
      "display_name": "Python 3"
    },
    "language_info": {
      "name": "python"
    }
  },
  "cells": [
    {
      "cell_type": "markdown",
      "metadata": {
        "id": "view-in-github",
        "colab_type": "text"
      },
      "source": [
        "<a href=\"https://colab.research.google.com/github/JacobFV/AGI/blob/master/OpenLinuxEnv.ipynb\" target=\"_parent\"><img src=\"https://colab.research.google.com/assets/colab-badge.svg\" alt=\"Open In Colab\"/></a>"
      ]
    },
    {
      "cell_type": "markdown",
      "metadata": {
        "id": "31TSQHdCB38n"
      },
      "source": [
        "# OpenLinuxEnv\n",
        "\n",
        "A simple reward-free (open) VNC-interfaced Ubuntu environment for agents to interact in."
      ]
    },
    {
      "cell_type": "markdown",
      "metadata": {
        "id": "2-YA79ssHnkB"
      },
      "source": [
        "## Getting Started\n",
        "\n",
        "Your local desktop, a remote server, or a container service can host the containers. I suggest the `dorowu/ubuntu-desktop-lxde-vnc` image because of [this answer](https://github.com/fcwu/docker-ubuntu-vnc-desktop) and [that answer](https://stackoverflow.com/questions/40658095/how-to-open-ubuntu-gui-inside-a-docker-image) , but there are many containers that will do the trick. (Try `ikeyasu/reinforcement-learning` for deep learning on deep learning!)\n",
        "\n",
        "This notebook assumes you have already have docker installed and will be running the container on your local machine with ip `127.0.0.1` and port `5900`. Start by executing this terminal command:\n",
        "```\n",
        "docker run --name ubvnc -p 6080:80 -p 5900:5900 -v /dev/shm:/dev/shm dorowu/ubuntu-desktop-lxde-vnc\n",
        "```\n",
        "Once it finishes starting up, you should be able to view the vnc in your local browser by visiting \n",
        "You should now be able to view the vnc in the browser with js noVNC at port 6080 or connect over python/other vnc app at port 5900. \n"
      ]
    },
    {
      "cell_type": "code",
      "metadata": {
        "id": "cnEaLSlZB3Co"
      },
      "source": [
        ""
      ],
      "execution_count": null,
      "outputs": []
    }
  ]
}