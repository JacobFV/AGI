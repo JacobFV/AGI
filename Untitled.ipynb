{
 "cells": [
  {
   "cell_type": "code",
   "execution_count": 13,
   "id": "native-china",
   "metadata": {
    "execution": {
     "iopub.execute_input": "2021-05-14T02:29:45.248858Z",
     "iopub.status.busy": "2021-05-14T02:29:45.248111Z",
     "iopub.status.idle": "2021-05-14T02:29:45.257660Z",
     "shell.execute_reply": "2021-05-14T02:29:45.255381Z",
     "shell.execute_reply.started": "2021-05-14T02:29:45.248771Z"
    },
    "tags": []
   },
   "outputs": [],
   "source": [
    "import re\n",
    "import datetime"
   ]
  },
  {
   "cell_type": "code",
   "execution_count": 14,
   "id": "greenhouse-microphone",
   "metadata": {
    "execution": {
     "iopub.execute_input": "2021-05-14T02:38:02.519913Z",
     "iopub.status.busy": "2021-05-14T02:38:02.519432Z",
     "iopub.status.idle": "2021-05-14T02:38:02.644615Z",
     "shell.execute_reply": "2021-05-14T02:38:02.643959Z",
     "shell.execute_reply.started": "2021-05-14T02:38:02.519829Z"
    },
    "tags": []
   },
   "outputs": [],
   "source": [
    "!mkdir posts"
   ]
  },
  {
   "cell_type": "code",
   "execution_count": 25,
   "id": "royal-ordinance",
   "metadata": {
    "execution": {
     "iopub.execute_input": "2021-05-14T02:50:52.130446Z",
     "iopub.status.busy": "2021-05-14T02:50:52.130168Z",
     "iopub.status.idle": "2021-05-14T02:50:52.150622Z",
     "shell.execute_reply": "2021-05-14T02:50:52.148527Z",
     "shell.execute_reply.started": "2021-05-14T02:50:52.130415Z"
    },
    "tags": []
   },
   "outputs": [
    {
     "name": "stdout",
     "output_type": "stream",
     "text": [
      "12 March 2021\n",
      "19 December 2020\n",
      "1 November 2020\n",
      "19 October 2020\n",
      "18 October 2020\n",
      "17 October 2020\n",
      "16 October 2020\n",
      "15 October 2020\n",
      "14 October 2020\n",
      "13 October 2020\n",
      "12 October 2020\n",
      "7 October 2020\n",
      "27 September 2020\n",
      "25 September 2020\n",
      "24 September 2020\n",
      "22 September 2020\n",
      "21 September 2020\n",
      "20 September 2020\n",
      "13 September 2020\n",
      "5 September 2020\n",
      "4 September 2020\n",
      "3 September 2020\n",
      "11 August 2020\n",
      "10 August 2020\n",
      "1 August 2020\n"
     ]
    }
   ],
   "source": [
    "months = dict(october='10', november='11', \n",
    "              december='12', march='03', \n",
    "             august='08', september='09')\n",
    "\n",
    "with open('meditating-on-ai.md') as f:\n",
    "    current_file = None\n",
    "    for line in f:\n",
    "        if line.startswith(\"##\"):\n",
    "            if current_file is not None:\n",
    "                current_file.close()\n",
    "                current_file = None\n",
    "                \n",
    "            filename = line.lstrip(\"##\").strip()\n",
    "            \n",
    "            if len(filename.split()) != 3:\n",
    "                continue\n",
    "                \n",
    "            print(filename)\n",
    "                \n",
    "            day, month, year = tuple(filename.split())\n",
    "            month = months[month.lower()]\n",
    "            filename = f'{year}-{month}-{day}-meditating-on-ai'\n",
    "            filename = f'posts/{filename}'\n",
    "            current_file = open(filename, 'w')\n",
    "            \n",
    "            current_file.writelines([\n",
    "                \"---\\n\",\n",
    "                \"layout: post\\n\",\n",
    "                \"title:  Meditating on AI\\n\",\n",
    "                f\"date:   {year}-{month}-{day}\\n\",\n",
    "                \"description: \\n\",\n",
    "                \"---\\n\",\n",
    "                \"\\n\"])\n",
    "            \n",
    "        else:\n",
    "            if current_file is not None:\n",
    "                current_file.writelines([line])"
   ]
  },
  {
   "cell_type": "code",
   "execution_count": null,
   "id": "compact-practitioner",
   "metadata": {},
   "outputs": [],
   "source": []
  }
 ],
 "metadata": {
  "kernelspec": {
   "display_name": "ai",
   "language": "python",
   "name": "ai"
  },
  "language_info": {
   "codemirror_mode": {
    "name": "ipython",
    "version": 3
   },
   "file_extension": ".py",
   "mimetype": "text/x-python",
   "name": "python",
   "nbconvert_exporter": "python",
   "pygments_lexer": "ipython3",
   "version": "3.8.8"
  }
 },
 "nbformat": 4,
 "nbformat_minor": 5
}
