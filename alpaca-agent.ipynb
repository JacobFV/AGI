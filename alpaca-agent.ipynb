{
 "cells": [
  {
   "cell_type": "markdown",
   "id": "killing-exemption",
   "metadata": {
    "tags": []
   },
   "source": [
    "## Get Started"
   ]
  },
  {
   "cell_type": "code",
   "execution_count": 38,
   "id": "affecting-limit",
   "metadata": {
    "execution": {
     "iopub.execute_input": "2021-03-27T17:00:29.114592Z",
     "iopub.status.busy": "2021-03-27T17:00:29.113819Z",
     "iopub.status.idle": "2021-03-27T17:00:29.190224Z",
     "shell.execute_reply": "2021-03-27T17:00:29.186613Z",
     "shell.execute_reply.started": "2021-03-27T17:00:29.114506Z"
    },
    "tags": []
   },
   "outputs": [],
   "source": [
    "%config Completer.use_jedi = False\n",
    "\n",
    "import time\n",
    "import math\n",
    "import datetime\n",
    "\n",
    "import pandas_datareader\n",
    "\n",
    "import numpy as np\n",
    "import pandas as pd\n",
    "import matplotlib.pyplot as plt\n",
    "import seaborn as sns\n",
    "\n",
    "import tensorflow as tf\n",
    "import tensorflow_probability as tfp\n",
    "\n",
    "import gym\n",
    "import tf_agents as tfa\n",
    "import gym_anytrading\n",
    "import gym_anytrading.envs\n",
    "import alpaca_trade_api as tradeapi\n",
    "\n",
    "keras = tf.keras\n",
    "tfkl = keras.layers\n",
    "tfpl = tfp.layers\n",
    "K = keras.backend"
   ]
  },
  {
   "cell_type": "markdown",
   "id": "invalid-rating",
   "metadata": {},
   "source": [
    "## Train momentum predictor"
   ]
  },
  {
   "cell_type": "markdown",
   "id": "spiritual-defendant",
   "metadata": {},
   "source": [
    "### Gather training data"
   ]
  },
  {
   "cell_type": "markdown",
   "id": "former-programmer",
   "metadata": {},
   "source": [
    "### Build prediction model"
   ]
  },
  {
   "cell_type": "markdown",
   "id": "suitable-disability",
   "metadata": {},
   "source": [
    "### Train and validate model"
   ]
  },
  {
   "cell_type": "markdown",
   "id": "written-violation",
   "metadata": {},
   "source": [
    "### Save/Load "
   ]
  },
  {
   "cell_type": "markdown",
   "id": "eastern-education",
   "metadata": {},
   "source": [
    "## Reinforcement learn stock agent "
   ]
  },
  {
   "cell_type": "markdown",
   "id": "phantom-reservation",
   "metadata": {},
   "source": [
    "### Build train environment "
   ]
  },
  {
   "cell_type": "markdown",
   "id": "retained-cooling",
   "metadata": {},
   "source": [
    "### Build agent "
   ]
  },
  {
   "cell_type": "markdown",
   "id": "complex-discharge",
   "metadata": {},
   "source": [
    "### Train and validate agent "
   ]
  },
  {
   "cell_type": "markdown",
   "id": "social-worse",
   "metadata": {},
   "source": [
    "### Save/Load "
   ]
  },
  {
   "cell_type": "markdown",
   "id": "assumed-irrigation",
   "metadata": {},
   "source": [
    "## Deploy agent "
   ]
  },
  {
   "cell_type": "markdown",
   "id": "union-comparative",
   "metadata": {},
   "source": [
    "### Alpaca API &ndash; agent interface "
   ]
  },
  {
   "cell_type": "code",
   "execution_count": 40,
   "id": "opening-replica",
   "metadata": {
    "execution": {
     "iopub.execute_input": "2021-03-27T17:07:09.363734Z",
     "iopub.status.busy": "2021-03-27T17:07:09.363549Z",
     "iopub.status.idle": "2021-03-27T17:07:09.884022Z",
     "shell.execute_reply": "2021-03-27T17:07:09.881669Z",
     "shell.execute_reply.started": "2021-03-27T17:07:09.363716Z"
    },
    "tags": []
   },
   "outputs": [],
   "source": [
    "api = tradeapi.REST(key_id = 'PK8DUWH99LLJV1GXQPCO', \n",
    "                    secret_key = 'WEwaxMLdBNeBaMYAOK0wL0uN9uORKQfkMagX7qrN', \n",
    "                    base_url = 'https://paper-api.alpaca.markets')\n",
    "account = api.get_account()"
   ]
  },
  {
   "cell_type": "code",
   "execution_count": 42,
   "id": "victorian-indonesian",
   "metadata": {
    "execution": {
     "iopub.execute_input": "2021-03-27T17:07:23.779280Z",
     "iopub.status.busy": "2021-03-27T17:07:23.778492Z",
     "iopub.status.idle": "2021-03-27T17:07:23.852374Z",
     "shell.execute_reply": "2021-03-27T17:07:23.851534Z",
     "shell.execute_reply.started": "2021-03-27T17:07:23.779190Z"
    },
    "tags": []
   },
   "outputs": [
    {
     "data": {
      "text/plain": [
       "\u001b[0;31mSignature:\u001b[0m\n",
       "\u001b[0mapi\u001b[0m\u001b[0;34m.\u001b[0m\u001b[0mget_barset\u001b[0m\u001b[0;34m(\u001b[0m\u001b[0;34m\u001b[0m\n",
       "\u001b[0;34m\u001b[0m    \u001b[0msymbols\u001b[0m\u001b[0;34m,\u001b[0m\u001b[0;34m\u001b[0m\n",
       "\u001b[0;34m\u001b[0m    \u001b[0mtimeframe\u001b[0m\u001b[0;34m:\u001b[0m \u001b[0mstr\u001b[0m\u001b[0;34m,\u001b[0m\u001b[0;34m\u001b[0m\n",
       "\u001b[0;34m\u001b[0m    \u001b[0mlimit\u001b[0m\u001b[0;34m:\u001b[0m \u001b[0mint\u001b[0m \u001b[0;34m=\u001b[0m \u001b[0;32mNone\u001b[0m\u001b[0;34m,\u001b[0m\u001b[0;34m\u001b[0m\n",
       "\u001b[0;34m\u001b[0m    \u001b[0mstart\u001b[0m\u001b[0;34m:\u001b[0m \u001b[0mstr\u001b[0m \u001b[0;34m=\u001b[0m \u001b[0;32mNone\u001b[0m\u001b[0;34m,\u001b[0m\u001b[0;34m\u001b[0m\n",
       "\u001b[0;34m\u001b[0m    \u001b[0mend\u001b[0m\u001b[0;34m:\u001b[0m \u001b[0mstr\u001b[0m \u001b[0;34m=\u001b[0m \u001b[0;32mNone\u001b[0m\u001b[0;34m,\u001b[0m\u001b[0;34m\u001b[0m\n",
       "\u001b[0;34m\u001b[0m    \u001b[0mafter\u001b[0m\u001b[0;34m:\u001b[0m \u001b[0mstr\u001b[0m \u001b[0;34m=\u001b[0m \u001b[0;32mNone\u001b[0m\u001b[0;34m,\u001b[0m\u001b[0;34m\u001b[0m\n",
       "\u001b[0;34m\u001b[0m    \u001b[0muntil\u001b[0m\u001b[0;34m:\u001b[0m \u001b[0mstr\u001b[0m \u001b[0;34m=\u001b[0m \u001b[0;32mNone\u001b[0m\u001b[0;34m,\u001b[0m\u001b[0;34m\u001b[0m\n",
       "\u001b[0;34m\u001b[0m\u001b[0;34m)\u001b[0m \u001b[0;34m->\u001b[0m \u001b[0malpaca_trade_api\u001b[0m\u001b[0;34m.\u001b[0m\u001b[0mentity\u001b[0m\u001b[0;34m.\u001b[0m\u001b[0mBarSet\u001b[0m\u001b[0;34m\u001b[0m\u001b[0;34m\u001b[0m\u001b[0m\n",
       "\u001b[0;31mSource:\u001b[0m   \n",
       "    \u001b[0;32mdef\u001b[0m \u001b[0mget_barset\u001b[0m\u001b[0;34m(\u001b[0m\u001b[0mself\u001b[0m\u001b[0;34m,\u001b[0m\u001b[0;34m\u001b[0m\n",
       "\u001b[0;34m\u001b[0m                   \u001b[0msymbols\u001b[0m\u001b[0;34m,\u001b[0m\u001b[0;34m\u001b[0m\n",
       "\u001b[0;34m\u001b[0m                   \u001b[0mtimeframe\u001b[0m\u001b[0;34m:\u001b[0m \u001b[0mstr\u001b[0m\u001b[0;34m,\u001b[0m\u001b[0;34m\u001b[0m\n",
       "\u001b[0;34m\u001b[0m                   \u001b[0mlimit\u001b[0m\u001b[0;34m:\u001b[0m \u001b[0mint\u001b[0m \u001b[0;34m=\u001b[0m \u001b[0;32mNone\u001b[0m\u001b[0;34m,\u001b[0m\u001b[0;34m\u001b[0m\n",
       "\u001b[0;34m\u001b[0m                   \u001b[0mstart\u001b[0m\u001b[0;34m:\u001b[0m \u001b[0mstr\u001b[0m \u001b[0;34m=\u001b[0m \u001b[0;32mNone\u001b[0m\u001b[0;34m,\u001b[0m\u001b[0;34m\u001b[0m\n",
       "\u001b[0;34m\u001b[0m                   \u001b[0mend\u001b[0m\u001b[0;34m:\u001b[0m \u001b[0mstr\u001b[0m \u001b[0;34m=\u001b[0m \u001b[0;32mNone\u001b[0m\u001b[0;34m,\u001b[0m\u001b[0;34m\u001b[0m\n",
       "\u001b[0;34m\u001b[0m                   \u001b[0mafter\u001b[0m\u001b[0;34m:\u001b[0m \u001b[0mstr\u001b[0m \u001b[0;34m=\u001b[0m \u001b[0;32mNone\u001b[0m\u001b[0;34m,\u001b[0m\u001b[0;34m\u001b[0m\n",
       "\u001b[0;34m\u001b[0m                   \u001b[0muntil\u001b[0m\u001b[0;34m:\u001b[0m \u001b[0mstr\u001b[0m \u001b[0;34m=\u001b[0m \u001b[0;32mNone\u001b[0m\u001b[0;34m)\u001b[0m \u001b[0;34m->\u001b[0m \u001b[0mBarSet\u001b[0m\u001b[0;34m:\u001b[0m\u001b[0;34m\u001b[0m\n",
       "\u001b[0;34m\u001b[0m        \u001b[0;34m\"\"\"\u001b[0m\n",
       "\u001b[0;34m        read the documentation here:\u001b[0m\n",
       "\u001b[0;34m        https://alpaca.markets/docs/api-documentation/api-v2/market-data/bars/\u001b[0m\n",
       "\u001b[0;34m        Get BarSet(dict[str]->list[Bar])\u001b[0m\n",
       "\u001b[0;34m        :param symbols: The parameter symbols can be either a comma-split\u001b[0m\n",
       "\u001b[0;34m               string or a list of string. Each symbol becomes the key of the\u001b[0m\n",
       "\u001b[0;34m               returned value.\u001b[0m\n",
       "\u001b[0;34m        :param timeframe: One of minute, 1Min, 5Min, 15Min, day or 1D. minute\u001b[0m\n",
       "\u001b[0;34m               is an alias of 1Min. Similarly, day is of 1D.\u001b[0m\n",
       "\u001b[0;34m        :param limit: The maximum number of bars per symbol. It can be between\u001b[0m\n",
       "\u001b[0;34m               1 and 1000. Default is 100.\u001b[0m\n",
       "\u001b[0;34m        :param start: ISO Format str, ex: '2019-04-15T09:30:00-04:00' or\u001b[0m\n",
       "\u001b[0;34m               '2019-04-15'\u001b[0m\n",
       "\u001b[0;34m        :param end: ISO Format str\u001b[0m\n",
       "\u001b[0;34m        :param after: ISO Format str\u001b[0m\n",
       "\u001b[0;34m        :param until: ISO Format str\u001b[0m\n",
       "\u001b[0;34m        :return: BarSet\u001b[0m\n",
       "\u001b[0;34m\u001b[0m\n",
       "\u001b[0;34m        note: start can't be used with after. end cannot be used with until.\u001b[0m\n",
       "\u001b[0;34m        \"\"\"\u001b[0m\u001b[0;34m\u001b[0m\n",
       "\u001b[0;34m\u001b[0m        \u001b[0;32mif\u001b[0m \u001b[0;32mnot\u001b[0m \u001b[0misinstance\u001b[0m\u001b[0;34m(\u001b[0m\u001b[0msymbols\u001b[0m\u001b[0;34m,\u001b[0m \u001b[0mstr\u001b[0m\u001b[0;34m)\u001b[0m\u001b[0;34m:\u001b[0m\u001b[0;34m\u001b[0m\n",
       "\u001b[0;34m\u001b[0m            \u001b[0msymbols\u001b[0m \u001b[0;34m=\u001b[0m \u001b[0;34m','\u001b[0m\u001b[0;34m.\u001b[0m\u001b[0mjoin\u001b[0m\u001b[0;34m(\u001b[0m\u001b[0msymbols\u001b[0m\u001b[0;34m)\u001b[0m\u001b[0;34m\u001b[0m\n",
       "\u001b[0;34m\u001b[0m        \u001b[0mparams\u001b[0m \u001b[0;34m=\u001b[0m \u001b[0;34m{\u001b[0m\u001b[0;34m\u001b[0m\n",
       "\u001b[0;34m\u001b[0m            \u001b[0;34m'symbols'\u001b[0m\u001b[0;34m:\u001b[0m \u001b[0msymbols\u001b[0m\u001b[0;34m,\u001b[0m\u001b[0;34m\u001b[0m\n",
       "\u001b[0;34m\u001b[0m        \u001b[0;34m}\u001b[0m\u001b[0;34m\u001b[0m\n",
       "\u001b[0;34m\u001b[0m        \u001b[0;32mif\u001b[0m \u001b[0mlimit\u001b[0m \u001b[0;32mis\u001b[0m \u001b[0;32mnot\u001b[0m \u001b[0;32mNone\u001b[0m\u001b[0;34m:\u001b[0m\u001b[0;34m\u001b[0m\n",
       "\u001b[0;34m\u001b[0m            \u001b[0mparams\u001b[0m\u001b[0;34m[\u001b[0m\u001b[0;34m'limit'\u001b[0m\u001b[0;34m]\u001b[0m \u001b[0;34m=\u001b[0m \u001b[0mlimit\u001b[0m\u001b[0;34m\u001b[0m\n",
       "\u001b[0;34m\u001b[0m        \u001b[0;32mif\u001b[0m \u001b[0mstart\u001b[0m \u001b[0;32mis\u001b[0m \u001b[0;32mnot\u001b[0m \u001b[0;32mNone\u001b[0m\u001b[0;34m:\u001b[0m\u001b[0;34m\u001b[0m\n",
       "\u001b[0;34m\u001b[0m            \u001b[0mparams\u001b[0m\u001b[0;34m[\u001b[0m\u001b[0;34m'start'\u001b[0m\u001b[0;34m]\u001b[0m \u001b[0;34m=\u001b[0m \u001b[0mstart\u001b[0m\u001b[0;34m\u001b[0m\n",
       "\u001b[0;34m\u001b[0m        \u001b[0;32mif\u001b[0m \u001b[0mend\u001b[0m \u001b[0;32mis\u001b[0m \u001b[0;32mnot\u001b[0m \u001b[0;32mNone\u001b[0m\u001b[0;34m:\u001b[0m\u001b[0;34m\u001b[0m\n",
       "\u001b[0;34m\u001b[0m            \u001b[0mparams\u001b[0m\u001b[0;34m[\u001b[0m\u001b[0;34m'end'\u001b[0m\u001b[0;34m]\u001b[0m \u001b[0;34m=\u001b[0m \u001b[0mend\u001b[0m\u001b[0;34m\u001b[0m\n",
       "\u001b[0;34m\u001b[0m        \u001b[0;32mif\u001b[0m \u001b[0mafter\u001b[0m \u001b[0;32mis\u001b[0m \u001b[0;32mnot\u001b[0m \u001b[0;32mNone\u001b[0m\u001b[0;34m:\u001b[0m\u001b[0;34m\u001b[0m\n",
       "\u001b[0;34m\u001b[0m            \u001b[0mparams\u001b[0m\u001b[0;34m[\u001b[0m\u001b[0;34m'after'\u001b[0m\u001b[0;34m]\u001b[0m \u001b[0;34m=\u001b[0m \u001b[0mafter\u001b[0m\u001b[0;34m\u001b[0m\n",
       "\u001b[0;34m\u001b[0m        \u001b[0;32mif\u001b[0m \u001b[0muntil\u001b[0m \u001b[0;32mis\u001b[0m \u001b[0;32mnot\u001b[0m \u001b[0;32mNone\u001b[0m\u001b[0;34m:\u001b[0m\u001b[0;34m\u001b[0m\n",
       "\u001b[0;34m\u001b[0m            \u001b[0mparams\u001b[0m\u001b[0;34m[\u001b[0m\u001b[0;34m'until'\u001b[0m\u001b[0;34m]\u001b[0m \u001b[0;34m=\u001b[0m \u001b[0muntil\u001b[0m\u001b[0;34m\u001b[0m\n",
       "\u001b[0;34m\u001b[0m        \u001b[0mresp\u001b[0m \u001b[0;34m=\u001b[0m \u001b[0mself\u001b[0m\u001b[0;34m.\u001b[0m\u001b[0mdata_get\u001b[0m\u001b[0;34m(\u001b[0m\u001b[0;34m'/bars/{}'\u001b[0m\u001b[0;34m.\u001b[0m\u001b[0mformat\u001b[0m\u001b[0;34m(\u001b[0m\u001b[0mtimeframe\u001b[0m\u001b[0;34m)\u001b[0m\u001b[0;34m,\u001b[0m \u001b[0mparams\u001b[0m\u001b[0;34m)\u001b[0m\u001b[0;34m\u001b[0m\n",
       "\u001b[0;34m\u001b[0m        \u001b[0;32mreturn\u001b[0m \u001b[0mself\u001b[0m\u001b[0;34m.\u001b[0m\u001b[0mresponse_wrapper\u001b[0m\u001b[0;34m(\u001b[0m\u001b[0mresp\u001b[0m\u001b[0;34m,\u001b[0m \u001b[0mBarSet\u001b[0m\u001b[0;34m)\u001b[0m\u001b[0;34m\u001b[0m\u001b[0;34m\u001b[0m\u001b[0m\n",
       "\u001b[0;31mFile:\u001b[0m      ~/anaconda3/envs/ai/lib/python3.8/site-packages/alpaca_trade_api/rest.py\n",
       "\u001b[0;31mType:\u001b[0m      method\n"
      ]
     },
     "metadata": {},
     "output_type": "display_data"
    }
   ],
   "source": [
    "api.get_barset??"
   ]
  },
  {
   "cell_type": "code",
   "execution_count": 78,
   "id": "outstanding-staff",
   "metadata": {
    "execution": {
     "iopub.execute_input": "2021-03-27T17:12:47.973006Z",
     "iopub.status.busy": "2021-03-27T17:12:47.972348Z",
     "iopub.status.idle": "2021-03-27T17:12:47.989295Z",
     "shell.execute_reply": "2021-03-27T17:12:47.986485Z",
     "shell.execute_reply.started": "2021-03-27T17:12:47.972927Z"
    },
    "tags": []
   },
   "outputs": [
    {
     "data": {
      "text/plain": [
       "'2021-03-27T12:12:47-04:00'"
      ]
     },
     "execution_count": 78,
     "metadata": {},
     "output_type": "execute_result"
    }
   ],
   "source": [
    "datetime.datetime.now().strftime(\"%Y-%m-%dT%H:%M:%S-04:00\")"
   ]
  },
  {
   "cell_type": "code",
   "execution_count": null,
   "id": "instrumental-aruba",
   "metadata": {},
   "outputs": [],
   "source": [
    "class AlpacaLiveEnv(gym_anytrading.envs.StocksEnv):\n",
    "    \n",
    "    def __init__(self, window_size, symbols,\n",
    "                 api_key_id, api_secret_key, api_base_url):\n",
    "        self._symbols = symbols\n",
    "        self._api = tradeapi.REST(key_id=api_key_id,\n",
    "                                  secret_key=api_secret_key,\n",
    "                                  base_url=api_base_url)\n",
    "        self._account = self._api.get_account()\n",
    "        self._api.get_bars(symbols, timeframe=\"1Min\", \n",
    "                           end=datetime.datetime.strftime()\n",
    "                           limit=window_size, adjustment='raw').df\n",
    "        # df = latest market data\n",
    "        super.__init__(df=df, window_size=window_size)\n",
    "    \n",
    "    def reset(self):\n",
    "        # reset signal features only to self.window_size\n",
    "        # then place self.current_tick at and of window\n",
    "        return super.reset()\n",
    "    \n",
    "    def step(self, action):\n",
    "        # remove df.row[0]\n",
    "        # rewind self._current_tick by -1\n",
    "        # add latest data to end of df\n",
    "        # return super.step\n",
    "        return super.step(action)"
   ]
  },
  {
   "cell_type": "code",
   "execution_count": null,
   "id": "integrated-thermal",
   "metadata": {},
   "outputs": [],
   "source": [
    "def loop_forever(agent, env, loop_period, reset_period):\n",
    "    \n",
    "    "
   ]
  },
  {
   "cell_type": "markdown",
   "id": "vocal-arctic",
   "metadata": {},
   "source": [
    "### Inference loop "
   ]
  },
  {
   "cell_type": "markdown",
   "id": "saving-glossary",
   "metadata": {
    "heading_collapsed": "true",
    "tags": []
   },
   "source": [
    "# Old Notebook"
   ]
  },
  {
   "cell_type": "markdown",
   "id": "atomic-broadcasting",
   "metadata": {
    "tags": []
   },
   "source": [
    "## Define Objective"
   ]
  },
  {
   "cell_type": "markdown",
   "id": "twelve-basement",
   "metadata": {},
   "source": [
    "- pretrain time-shifted momentum predictor\n",
    "- reinforcement learn buy/sell behavior"
   ]
  },
  {
   "cell_type": "code",
   "execution_count": 3,
   "id": "decent-promotion",
   "metadata": {
    "execution": {
     "iopub.execute_input": "2021-03-27T16:23:10.399610Z",
     "iopub.status.busy": "2021-03-27T16:23:10.399240Z",
     "iopub.status.idle": "2021-03-27T16:23:10.405609Z",
     "shell.execute_reply": "2021-03-27T16:23:10.404832Z",
     "shell.execute_reply.started": "2021-03-27T16:23:10.399576Z"
    },
    "tags": []
   },
   "outputs": [],
   "source": [
    "# common HFT stocks\n",
    "train_symbols = ['BAC', 'F', 'CSCO', 'INTC', 'GE', \n",
    "           'PFE', 'MS', 'HPE', 'GM']"
   ]
  },
  {
   "cell_type": "code",
   "execution_count": 4,
   "id": "foreign-madonna",
   "metadata": {
    "execution": {
     "iopub.execute_input": "2021-03-27T16:23:10.407448Z",
     "iopub.status.busy": "2021-03-27T16:23:10.407246Z",
     "iopub.status.idle": "2021-03-27T16:23:12.027771Z",
     "shell.execute_reply": "2021-03-27T16:23:12.024944Z",
     "shell.execute_reply.started": "2021-03-27T16:23:10.407425Z"
    },
    "tags": []
   },
   "outputs": [
    {
     "name": "stdout",
     "output_type": "stream",
     "text": [
      "BAC Bank of America Corporation True\n",
      "F Ford Motor Company True\n",
      "CSCO Cisco Systems, Inc. Common Stock (DE) True\n",
      "INTC Intel Corporation Common Stock True\n",
      "GE General Electric Company True\n",
      "PFE Pfizer Inc. True\n",
      "MS Morgan Stanley True\n",
      "HPE Hewlett Packard Enterprise Company True\n",
      "GM General Motors Company True\n"
     ]
    }
   ],
   "source": [
    "for i, _ in enumerate(symbols):\n",
    "    asset = api.get_asset(symbols[i]) \n",
    "    print(asset.symbol, asset.name, asset.fractionable)"
   ]
  },
  {
   "cell_type": "markdown",
   "id": "fifth-missile",
   "metadata": {},
   "source": [
    "## Get Dataset"
   ]
  },
  {
   "cell_type": "code",
   "execution_count": 25,
   "id": "fewer-princeton",
   "metadata": {
    "execution": {
     "iopub.execute_input": "2021-03-27T16:35:29.467605Z",
     "iopub.status.busy": "2021-03-27T16:35:29.467181Z",
     "iopub.status.idle": "2021-03-27T16:35:29.520641Z",
     "shell.execute_reply": "2021-03-27T16:35:29.519867Z",
     "shell.execute_reply.started": "2021-03-27T16:35:29.467564Z"
    },
    "tags": []
   },
   "outputs": [],
   "source": []
  },
  {
   "cell_type": "markdown",
   "id": "covered-mainland",
   "metadata": {
    "tags": []
   },
   "source": [
    "## Get Data"
   ]
  },
  {
   "cell_type": "code",
   "execution_count": 10,
   "id": "funded-animation",
   "metadata": {
    "execution": {
     "iopub.execute_input": "2021-03-27T16:25:44.827630Z",
     "iopub.status.busy": "2021-03-27T16:25:44.827145Z",
     "iopub.status.idle": "2021-03-27T16:25:44.835628Z",
     "shell.execute_reply": "2021-03-27T16:25:44.834099Z",
     "shell.execute_reply.started": "2021-03-27T16:25:44.827576Z"
    },
    "tags": []
   },
   "outputs": [],
   "source": [
    "def data_for_year(year=2019):\n",
    "    all_bars = api.get_barset(symbols, timeframe='1Min', \n",
    "                              limit=1000, start=f'{str(year)}-04-15T09:30:00-04:00')\n",
    "    opening_prices = [[bar.o for bar in barset_i] for barset_i in all_bars.values()]\n",
    "    opening_prices_tensor = tf.Variable(opening_prices)\n",
    "    return opening_prices_tensor"
   ]
  },
  {
   "cell_type": "code",
   "execution_count": 14,
   "id": "instructional-organ",
   "metadata": {
    "execution": {
     "iopub.execute_input": "2021-03-27T16:27:25.507385Z",
     "iopub.status.busy": "2021-03-27T16:27:25.507161Z",
     "iopub.status.idle": "2021-03-27T16:27:41.809628Z",
     "shell.execute_reply": "2021-03-27T16:27:41.808972Z",
     "shell.execute_reply.started": "2021-03-27T16:27:25.507361Z"
    },
    "tags": []
   },
   "outputs": [],
   "source": [
    "opening_prices_tensors = [data_for_year(year) for year in range(2000, 2020)]"
   ]
  },
  {
   "cell_type": "code",
   "execution_count": 17,
   "id": "ahead-magnitude",
   "metadata": {
    "execution": {
     "iopub.execute_input": "2021-03-27T16:27:55.262573Z",
     "iopub.status.busy": "2021-03-27T16:27:55.262244Z",
     "iopub.status.idle": "2021-03-27T16:27:55.270068Z",
     "shell.execute_reply": "2021-03-27T16:27:55.268396Z",
     "shell.execute_reply.started": "2021-03-27T16:27:55.262534Z"
    },
    "tags": []
   },
   "outputs": [
    {
     "data": {
      "text/plain": [
       "TensorShape([9, 20000])"
      ]
     },
     "execution_count": 17,
     "metadata": {},
     "output_type": "execute_result"
    }
   ],
   "source": [
    "opening_prices_tensors_cat = tf.concat(opening_prices_tensors, axis=1)\n",
    "opening_prices_tensors_cat.shape"
   ]
  },
  {
   "cell_type": "markdown",
   "id": "ignored-administrator",
   "metadata": {
    "tags": []
   },
   "source": [
    "## Build Dataset"
   ]
  },
  {
   "cell_type": "code",
   "execution_count": 22,
   "id": "hungry-evidence",
   "metadata": {
    "execution": {
     "iopub.execute_input": "2021-03-27T16:29:36.675897Z",
     "iopub.status.busy": "2021-03-27T16:29:36.675311Z",
     "iopub.status.idle": "2021-03-27T16:29:36.813300Z",
     "shell.execute_reply": "2021-03-27T16:29:36.812519Z",
     "shell.execute_reply.started": "2021-03-27T16:29:36.675826Z"
    },
    "tags": []
   },
   "outputs": [
    {
     "name": "stdout",
     "output_type": "stream",
     "text": [
      "TensorShape([4, 998, 1]) TensorShape([4, 1])\n",
      "TensorShape([4, 998, 1]) TensorShape([4, 1])\n",
      "TensorShape([4, 998, 1]) TensorShape([4, 1])\n",
      "TensorShape([4, 998, 1]) TensorShape([4, 1])\n",
      "TensorShape([4, 998, 1]) TensorShape([4, 1])\n",
      "TensorShape([1, 998, 1]) TensorShape([1, 1])\n",
      "TensorShape([4, 998, 1]) TensorShape([4, 1])\n",
      "TensorShape([4, 998, 1]) TensorShape([4, 1])\n",
      "TensorShape([4, 998, 1]) TensorShape([4, 1])\n",
      "TensorShape([4, 998, 1]) TensorShape([4, 1])\n",
      "TensorShape([4, 998, 1]) TensorShape([4, 1])\n",
      "TensorShape([4, 998, 1]) TensorShape([4, 1])\n"
     ]
    }
   ],
   "source": [
    "maxT = 32\n",
    "B = 4\n",
    "\n",
    "ds = tf.data.Dataset.from_tensor_slices(opening_prices_tensor)\n",
    "ds = ds.window(maxT, shift=1)\n",
    "ds = ds.flat_map(lambda x: x)\n",
    "ds = ds.map(lambda x: x[..., None])\n",
    "ds = ds.map(lambda x: (x[:-2], x[-1] - x[-3]))\n",
    "ds = ds.batch(B)\n",
    "ds = ds.shuffle(1000)\n",
    "for seq, val in ds.take(100):\n",
    "    tf.print(seq[..., -5:].shape, val.shape)"
   ]
  },
  {
   "cell_type": "markdown",
   "id": "extensive-satellite",
   "metadata": {
    "tags": []
   },
   "source": [
    "## Build velocity predictor"
   ]
  },
  {
   "cell_type": "code",
   "execution_count": 7,
   "id": "internal-estimate",
   "metadata": {
    "execution": {
     "iopub.execute_input": "2021-03-27T16:23:44.236141Z",
     "iopub.status.busy": "2021-03-27T16:23:44.235960Z",
     "iopub.status.idle": "2021-03-27T16:23:46.338613Z",
     "shell.execute_reply": "2021-03-27T16:23:46.335732Z",
     "shell.execute_reply.started": "2021-03-27T16:23:44.236121Z"
    },
    "tags": []
   },
   "outputs": [
    {
     "name": "stdout",
     "output_type": "stream",
     "text": [
      "1/1 [==============================] - 1s 1s/step - loss: 0.5372 - mse: 0.3777 - mae: 0.5372\n"
     ]
    }
   ],
   "source": [
    "class Pred0(keras.Model):\n",
    "    \n",
    "    PARAM_DEFAULTS = dict(\n",
    "        f=lambda x: tf.nn.leaky_relu(x, 0.1),\n",
    "        Nx=8,  # bits per symbol\n",
    "        d_v=16,\n",
    "        d_k=4\n",
    "    )\n",
    "    \n",
    "    def __init__(self, params:dict=None):\n",
    "        self.params = Pred0.PARAM_DEFAULTS\n",
    "        if params is None:\n",
    "            params = dict()\n",
    "        self.params.update(params)\n",
    "        self.p = self.params\n",
    "        \n",
    "        super(Pred0, self).__init__()\n",
    "    \n",
    "    def build(self, input_shape):\n",
    "        # [B, T, 1]\n",
    "        \n",
    "        #self.f_split_inputs = tfkl.Lambda(lambda x: (x[..., -1, :], x[..., :-1, :]))\n",
    "        self.f_x1 = tfkl.Dense(self.p['Nx'], self.p['f'], use_bias=False, name='f_x1')\n",
    "        self.f_q = tfkl.GRU(1, name='f_q')\n",
    "        self.f_att = tfkl.MultiHeadAttention(num_heads=8, \n",
    "                                             key_dim=self.p['d_k'],\n",
    "                                             value_dim=self.p['d_v'],\n",
    "                                             dropout=0.1,\n",
    "                                             name='f_att')\n",
    "        self.final_mlp = keras.Sequential([\n",
    "            tfkl.Dense(self.p['Nx'], self.p['f'], use_bias=True),\n",
    "            tfkl.Dense(2, use_bias=False),\n",
    "            tfpl.DistributionLambda(\n",
    "                make_distribution_fn=lambda x: tfp.distributions.Normal(\n",
    "                    loc=x[..., 0], scale=x[..., 1]),\n",
    "                convert_to_tensor_fn=lambda s: s.sample()),\n",
    "        ])\n",
    "        \n",
    "    def call(self, inputs, training=False):\n",
    "        # inputs [B, T, 1]\n",
    "        #last_elem, rest_of_seq = self.f_split_inputs(inputs)\n",
    "        x1 = self.f_x1(inputs)  # [B, T, 1]\n",
    "        q = self.f_q(inputs)  # [B, 1]\n",
    "        q_seq = K.expand_dims(q, axis=1)  # [B, 1, 1]\n",
    "        attended_seq = self.f_att(q_seq, x1)  # [B, 1, d_k]\n",
    "        attended = K.squeeze(attended_seq, axis=1) # [B, d_v]\n",
    "        vel = self.final_mlp(attended)  # [B, 1]\n",
    "        return vel\n",
    "    \n",
    "pred0 = Pred0()\n",
    "\n",
    "pred0.compile('adam', 'mae', ['mse', 'mae'])\n",
    "\n",
    "x = tf.random.uniform((30, 100, 1))\n",
    "ytrue = tf.random.uniform((30, 1))\n",
    "ypred = pred0(x)\n",
    "history = pred0.evaluate(x=x, y=ytrue)"
   ]
  },
  {
   "cell_type": "markdown",
   "id": "metallic-wallpaper",
   "metadata": {
    "execution": {
     "iopub.execute_input": "2021-03-26T21:51:59.190754Z",
     "iopub.status.busy": "2021-03-26T21:51:59.189438Z",
     "iopub.status.idle": "2021-03-26T21:51:59.200714Z",
     "shell.execute_reply": "2021-03-26T21:51:59.198773Z",
     "shell.execute_reply.started": "2021-03-26T21:51:59.190588Z"
    },
    "tags": []
   },
   "source": [
    "## Train predictor"
   ]
  },
  {
   "cell_type": "code",
   "execution_count": 8,
   "id": "specified-shame",
   "metadata": {
    "execution": {
     "iopub.execute_input": "2021-03-27T16:23:48.681630Z",
     "iopub.status.busy": "2021-03-27T16:23:48.680527Z",
     "iopub.status.idle": "2021-03-27T16:24:09.664562Z",
     "shell.execute_reply": "2021-03-27T16:24:09.663716Z",
     "shell.execute_reply.started": "2021-03-27T16:23:48.681539Z"
    },
    "tags": []
   },
   "outputs": [
    {
     "name": "stdout",
     "output_type": "stream",
     "text": [
      "Epoch 1/10\n",
      "12/12 [==============================] - 4s 178ms/step - loss: 0.5254 - mse: 0.7032 - mae: 0.4980\n",
      "Epoch 2/10\n",
      "12/12 [==============================] - 2s 153ms/step - loss: 0.2893 - mse: 0.1634 - mae: 0.2727\n",
      "Epoch 3/10\n",
      "12/12 [==============================] - 2s 160ms/step - loss: 0.2117 - mse: 0.0979 - mae: 0.1962\n",
      "Epoch 4/10\n",
      "12/12 [==============================] - 2s 160ms/step - loss: 0.1081 - mse: 0.0241 - mae: 0.1017\n",
      "Epoch 5/10\n",
      "12/12 [==============================] - 2s 152ms/step - loss: 0.1057 - mse: 0.0270 - mae: 0.0969\n",
      "Epoch 6/10\n",
      "12/12 [==============================] - 2s 151ms/step - loss: 0.0625 - mse: 0.0088 - mae: 0.0594\n",
      "Epoch 7/10\n",
      "12/12 [==============================] - 2s 157ms/step - loss: 0.1245 - mse: 0.0388 - mae: 0.1275\n",
      "Epoch 8/10\n",
      "12/12 [==============================] - 2s 150ms/step - loss: 0.0751 - mse: 0.0100 - mae: 0.0749\n",
      "Epoch 9/10\n",
      "12/12 [==============================] - 2s 150ms/step - loss: 0.0429 - mse: 0.0028 - mae: 0.0397\n",
      "Epoch 10/10\n",
      "12/12 [==============================] - 2s 155ms/step - loss: 0.0385 - mse: 0.0027 - mae: 0.0400\n"
     ]
    }
   ],
   "source": [
    "history = pred0.fit(ds, epochs=32)"
   ]
  },
  {
   "cell_type": "code",
   "execution_count": 148,
   "id": "greek-bumper",
   "metadata": {
    "execution": {
     "iopub.execute_input": "2021-03-26T21:43:25.629773Z",
     "iopub.status.busy": "2021-03-26T21:43:25.629250Z",
     "iopub.status.idle": "2021-03-26T21:43:25.757700Z",
     "shell.execute_reply": "2021-03-26T21:43:25.757150Z",
     "shell.execute_reply.started": "2021-03-26T21:43:25.629706Z"
    },
    "tags": []
   },
   "outputs": [
    {
     "data": {
      "image/png": "[encoded data removed]",
      "text/plain": [
       "<Figure size 432x288 with 1 Axes>"
      ]
     },
     "metadata": {
      "needs_background": "light"
     },
     "output_type": "display_data"
    }
   ],
   "source": [
    "plt.plot(history.history['mae'], 'r')\n",
    "plt.plot(history.history['mse'], 'b')\n",
    "plt.show()"
   ]
  },
  {
   "cell_type": "code",
   "execution_count": 163,
   "id": "demonstrated-complexity",
   "metadata": {
    "execution": {
     "iopub.execute_input": "2021-03-26T21:52:17.963332Z",
     "iopub.status.busy": "2021-03-26T21:52:17.962606Z",
     "iopub.status.idle": "2021-03-26T21:52:18.675062Z",
     "shell.execute_reply": "2021-03-26T21:52:18.674505Z",
     "shell.execute_reply.started": "2021-03-26T21:52:17.963249Z"
    },
    "tags": []
   },
   "outputs": [
    {
     "name": "stdout",
     "output_type": "stream",
     "text": [
      "WARNING:tensorflow:11 out of the last 11 calls to <function Model.make_test_function.<locals>.test_function at 0x7fe48e240040> triggered tf.function retracing. Tracing is expensive and the excessive number of tracings could be due to (1) creating @tf.function repeatedly in a loop, (2) passing tensors with different shapes, (3) passing Python objects instead of tensors. For (1), please define your @tf.function outside of the loop. For (2), @tf.function has experimental_relax_shapes=True option that relaxes argument shapes that can avoid unnecessary retracing. For (3), please refer to https://www.tensorflow.org/guide/function#controlling_retracing and https://www.tensorflow.org/api_docs/python/tf/function for  more details.\n",
      "12/12 [==============================] - 1s 29ms/step - loss: 0.0404 - mse: 0.0029 - mae: 0.0388\n"
     ]
    }
   ],
   "source": [
    "history = pred0.evaluate(ds)"
   ]
  },
  {
   "cell_type": "markdown",
   "id": "inside-denial",
   "metadata": {},
   "source": [
    "## Anticipatory momentum aware RL trading\n",
    "\n",
    "Train RL agent $\\pi: p \\times p \\mapsto \\{-1, 0, +1\\}$ to maximize income (with heavy penalty for loss)\n",
    "\n",
    "$$\\max_{\\pi} \\dot\\$(\\pi(p^{<t>}, p^{<t+2>}_{pred}(p^{<t-N:t>}))$$\n",
    "\n",
    "where $\\$(a)$ is the equity after buying or selling"
   ]
  },
  {
   "cell_type": "code",
   "execution_count": 161,
   "id": "intensive-start",
   "metadata": {
    "execution": {
     "iopub.execute_input": "2021-03-26T21:50:51.161936Z",
     "iopub.status.busy": "2021-03-26T21:50:51.161434Z",
     "iopub.status.idle": "2021-03-26T21:50:51.166796Z",
     "shell.execute_reply": "2021-03-26T21:50:51.165702Z",
     "shell.execute_reply.started": "2021-03-26T21:50:51.161879Z"
    },
    "tags": []
   },
   "outputs": [],
   "source": [
    "theta_buy = 0.0001\n",
    "theta_sell = 0.0005\n",
    "\n",
    "for (seq, nx) in ds:\n",
    "    preds = pred0(seq)\n",
    "    for pred in tf.unstack(pred[:, 0]):\n",
    "        if pred > theta_buy:\n",
    "            print('buy')\n",
    "        "
   ]
  },
  {
   "cell_type": "code",
   "execution_count": 6,
   "id": "british-massage",
   "metadata": {
    "collapsed": true,
    "execution": {
     "iopub.execute_input": "2021-03-26T14:32:00.741052Z",
     "iopub.status.busy": "2021-03-26T14:32:00.740638Z",
     "iopub.status.idle": "2021-03-26T14:32:01.211995Z",
     "shell.execute_reply": "2021-03-26T14:32:01.209429Z",
     "shell.execute_reply.started": "2021-03-26T14:32:00.741006Z"
    },
    "jupyter": {
     "outputs_hidden": true
    },
    "tags": []
   },
   "outputs": [
    {
     "data": {
      "text/plain": [
       "Order({   'asset_class': 'us_equity',\n",
       "    'asset_id': 'b0b6dd9d-8b9b-48a9-ba46-b9d54906e415',\n",
       "    'canceled_at': None,\n",
       "    'client_order_id': 'b341b081-30df-4842-9509-ecc093455186',\n",
       "    'created_at': '2021-03-26T14:32:01.408634Z',\n",
       "    'expired_at': None,\n",
       "    'extended_hours': False,\n",
       "    'failed_at': None,\n",
       "    'filled_at': None,\n",
       "    'filled_avg_price': None,\n",
       "    'filled_qty': '0',\n",
       "    'hwm': None,\n",
       "    'id': '629a2723-5689-4ed6-a483-96f2aa6ae604',\n",
       "    'legs': None,\n",
       "    'limit_price': None,\n",
       "    'notional': None,\n",
       "    'order_class': '',\n",
       "    'order_type': 'market',\n",
       "    'qty': '0.1',\n",
       "    'replaced_at': None,\n",
       "    'replaced_by': None,\n",
       "    'replaces': None,\n",
       "    'side': 'buy',\n",
       "    'status': 'accepted',\n",
       "    'stop_price': None,\n",
       "    'submitted_at': '2021-03-26T14:32:01.399758Z',\n",
       "    'symbol': 'AAPL',\n",
       "    'time_in_force': 'day',\n",
       "    'trail_percent': None,\n",
       "    'trail_price': None,\n",
       "    'type': 'market',\n",
       "    'updated_at': '2021-03-26T14:32:01.408634Z'})"
      ]
     },
     "execution_count": 6,
     "metadata": {},
     "output_type": "execute_result"
    }
   ],
   "source": [
    "order = api.submit_order(\n",
    "    symbol=symbols[0],\n",
    "    qty=0.1,\n",
    "    side='buy',\n",
    "    type='market',\n",
    "    time_in_force='day',\n",
    ")\n",
    "order"
   ]
  },
  {
   "cell_type": "markdown",
   "id": "demanding-marshall",
   "metadata": {},
   "source": [
    "Train a predictor on prices"
   ]
  },
  {
   "cell_type": "code",
   "execution_count": null,
   "id": "contemporary-butter",
   "metadata": {
    "tags": []
   },
   "outputs": [],
   "source": [
    "class RNN(keras.Model):\n",
    "    \n",
    "    def build(input_shape):\n",
    "        # [B, T, N_sym, price]\n",
    "        N_symbols = input_shape[-2]\n",
    "        \n",
    "        self.L1a = tfkl.LSTM(N_symbols, return_state=True, return_sequences=True)\n",
    "        self.L1b = tfkl.MultiHeadAttention(num_heads=8, key_dim=8)\n",
    "        self.L1cat = tfkl.Concatenate()\n",
    "        self.L2 = tfkl.LSTM(N_symbols, return_state=True)\n",
    "        \n",
    "        self.L3 = tfkl.Dense(2*N_symbols)\n",
    "        self.L4 = tfpl.DistributionLambda(\n",
    "            make_distribution_fn=lambda x: tfp.distributions.Normal(\n",
    "                loc=x[:N_symbols], scale=x[N_symbols:]),\n",
    "            convert_to_tensor_fn=lambda s: s.sample())\n",
    "        \n",
    "    def call(self, inputs):\n",
    "        \n",
    "        x0, (prev_state_L1a, prev_state_L2) = inputs\n",
    "        \n",
    "        x1a_seq, final_memory_state, final_carry_state = \\\n",
    "            self.L1a(x0, initial_state=prev_state_L1a)\n",
    "        \n",
    "        x1b = self.L1b(x0, x0)\n",
    "        \n",
    "        x1cat = self.L1cat([x1a_seq, x1b])\n",
    "        \n",
    "        x2, final_memory_state, final_carry_state = \\\n",
    "            self.L2(x1, initial_state=prev_state_L2)\n",
    "        \n",
    "        "
   ]
  }
 ],
 "metadata": {
  "kernelspec": {
   "display_name": "ai",
   "language": "python",
   "name": "ai"
  },
  "language_info": {
   "codemirror_mode": {
    "name": "ipython",
    "version": 3
   },
   "file_extension": ".py",
   "mimetype": "text/x-python",
   "name": "python",
   "nbconvert_exporter": "python",
   "pygments_lexer": "ipython3",
   "version": "3.8.8"
  }
 },
 "nbformat": 4,
 "nbformat_minor": 5
}
